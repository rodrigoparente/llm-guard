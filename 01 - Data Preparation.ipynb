{
 "cells": [
  {
   "cell_type": "code",
   "execution_count": null,
   "id": "73cfadf7-d34c-45ea-888b-13d5323dd318",
   "metadata": {},
   "outputs": [],
   "source": [
    "# supress any warnings\n",
    "import warnings\n",
    "warnings.filterwarnings('ignore')"
   ]
  },
  {
   "cell_type": "code",
   "execution_count": null,
   "id": "da1fa4fb-8887-45aa-85f7-f635738747f2",
   "metadata": {},
   "outputs": [],
   "source": [
    "# third-party imports\n",
    "import pandas as pd\n",
    "\n",
    "import matplotlib.pyplot as plt\n",
    "import seaborn as sns\n",
    "\n",
    "from sklearn.utils import shuffle\n",
    "from sklearn.model_selection import train_test_split\n",
    "\n",
    "from huggingface_hub import hf_hub_download\n",
    "\n",
    "from lingua import Language, LanguageDetectorBuilder"
   ]
  },
  {
   "cell_type": "code",
   "execution_count": null,
   "id": "9e560167-47fc-448b-8120-4575d4863f22",
   "metadata": {},
   "outputs": [],
   "source": [
    "# pre-loading language models to detection\n",
    "detector = LanguageDetectorBuilder.from_all_languages().with_preloaded_language_models().build()"
   ]
  },
  {
   "cell_type": "markdown",
   "id": "6a2da361-3512-42cc-b381-2d88843780d6",
   "metadata": {},
   "source": [
    "## Bening Prompts - [No Robots](https://huggingface.co/datasets/HuggingFaceH4/no_robots)"
   ]
  },
  {
   "cell_type": "code",
   "execution_count": null,
   "id": "41a6d919-9b14-4439-aace-cf765c990e42",
   "metadata": {},
   "outputs": [],
   "source": [
    "no_robots = pd.concat([\n",
    "    pd.read_parquet(\n",
    "        hf_hub_download(repo_id='HuggingFaceH4/no_robots', filename='data/test-00000-of-00001.parquet', repo_type=\"dataset\")),\n",
    "    pd.read_parquet(\n",
    "        hf_hub_download(repo_id='HuggingFaceH4/no_robots', filename='data/train-00000-of-00001.parquet', repo_type=\"dataset\"))\n",
    "])"
   ]
  },
  {
   "cell_type": "code",
   "execution_count": null,
   "id": "2c2ded22-aef6-42bc-bb87-144f47c9750f",
   "metadata": {},
   "outputs": [],
   "source": [
    "no_robots.info()"
   ]
  },
  {
   "cell_type": "code",
   "execution_count": null,
   "id": "9bd5dc64-3969-49d7-8c1b-c94763bd37a9",
   "metadata": {
    "scrolled": true
   },
   "outputs": [],
   "source": [
    "# droping duplicates\n",
    "no_robots.drop_duplicates(subset=['prompt'], inplace=True)\n",
    "\n",
    "# droping nan values\n",
    "no_robots = no_robots.loc[~no_robots['prompt'].isnull()] \n",
    "\n",
    "# droping empty values\n",
    "no_robots = no_robots.loc[no_robots['prompt'] != '']\n",
    "\n",
    "# selecting columns\n",
    "no_robots = no_robots[['prompt', 'category']]"
   ]
  },
  {
   "cell_type": "code",
   "execution_count": null,
   "id": "92137c92-a9b3-47c7-915f-60382aa33480",
   "metadata": {},
   "outputs": [],
   "source": [
    "no_robots.shape"
   ]
  },
  {
   "cell_type": "code",
   "execution_count": null,
   "id": "c0628012-5739-4b26-8049-bf171d259043",
   "metadata": {},
   "outputs": [],
   "source": [
    "ax = no_robots['category'].value_counts(normalize=True).plot(kind='bar', figsize=(8,3))\n",
    "ax.set_title('Category Distribution', size=14)\n",
    "ax.set_ylabel('Percentage (%)')\n",
    "ax.set_xlabel('Level')\n",
    "plt.xticks(rotation=25)\n",
    "plt.show()"
   ]
  },
  {
   "cell_type": "markdown",
   "id": "d8ef353a-2c6c-45b7-b79f-dbb5de428c36",
   "metadata": {},
   "source": [
    "## Malicious Prompts - [Hackaprompt](https://huggingface.co/datasets/hackaprompt/hackaprompt-dataset)"
   ]
  },
  {
   "cell_type": "code",
   "execution_count": null,
   "id": "8b1b6e7f-b921-4b95-b054-16c927ce89c1",
   "metadata": {},
   "outputs": [],
   "source": [
    "hackaprompt = pd.read_parquet(\n",
    "    hf_hub_download(repo_id='hackaprompt/hackaprompt-dataset', filename='hackaprompt.parquet', repo_type=\"dataset\"))"
   ]
  },
  {
   "cell_type": "code",
   "execution_count": null,
   "id": "9425146b-c129-4110-b1dc-902b13cb75ba",
   "metadata": {},
   "outputs": [],
   "source": [
    "hackaprompt.info()"
   ]
  },
  {
   "cell_type": "code",
   "execution_count": null,
   "id": "ae72a159-8599-41e2-9eaf-89e93419c57a",
   "metadata": {},
   "outputs": [],
   "source": [
    "# filtering sucessful prompts\n",
    "hackaprompt = hackaprompt.loc[(hackaprompt['correct'] == True)]\n",
    "\n",
    "# creating system prompt column\n",
    "hackaprompt['prompt'] = hackaprompt.apply(lambda x: x['prompt'].replace(x[\"user_input\"], '{USER PROMPT}'), axis='columns')\n",
    "\n",
    "# renaming columns\n",
    "hackaprompt.rename(columns={'prompt': 'system_prompt', 'user_input': 'prompt'}, inplace=True)\n",
    "\n",
    "# droping duplicates\n",
    "hackaprompt.drop_duplicates(subset=['prompt'], inplace=True)\n",
    "\n",
    "# droping nan values\n",
    "hackaprompt = hackaprompt.loc[~hackaprompt['prompt'].isnull()] \n",
    "\n",
    "# droping empty values\n",
    "hackaprompt = hackaprompt.loc[hackaprompt['prompt'] != '']\n",
    "\n",
    "# selecting columns\n",
    "hackaprompt = hackaprompt[['level', 'system_prompt', 'prompt', 'completion', 'expected_completion', 'model', 'token_count']]"
   ]
  },
  {
   "cell_type": "code",
   "execution_count": null,
   "id": "59d1c146-1dc6-4e1b-8db8-fcbc3e312371",
   "metadata": {},
   "outputs": [],
   "source": [
    "hackaprompt.shape"
   ]
  },
  {
   "cell_type": "code",
   "execution_count": null,
   "id": "32f9ea9a-900f-422f-8f54-b79a87c5b297",
   "metadata": {},
   "outputs": [],
   "source": [
    "# example of system prompt\n",
    "hackaprompt.loc[hackaprompt['level'] == 1, 'system_prompt'].iloc[0]"
   ]
  },
  {
   "cell_type": "code",
   "execution_count": null,
   "id": "0670025b-ce7c-407d-83db-1ef3b3301c3b",
   "metadata": {},
   "outputs": [],
   "source": [
    "# detecting prompt language\n",
    "hackaprompt['prompt_language'] = hackaprompt.apply(\n",
    "    lambda x: detector.detect_language_of(x['prompt']).name.lower() if detector.detect_language_of(x['prompt']) else 'unrecognized', axis='columns')"
   ]
  },
  {
   "cell_type": "code",
   "execution_count": null,
   "id": "72e0fb53-ea13-4799-a8df-a5f54df1a36a",
   "metadata": {},
   "outputs": [],
   "source": [
    "ax = hackaprompt['prompt_language'].value_counts(normalize=True)[:10].plot(kind='bar', figsize=(4,3))\n",
    "ax.set_title('Language Distribution', size=14)\n",
    "ax.set_ylabel('Percentage (%)')\n",
    "plt.xticks(rotation=85)\n",
    "plt.show()"
   ]
  },
  {
   "cell_type": "code",
   "execution_count": null,
   "id": "7577731f-9996-4166-851c-738357fad311",
   "metadata": {},
   "outputs": [],
   "source": [
    "# mismatched languages because of special characters\n",
    "hackaprompt.loc[hackaprompt['prompt_language'] == 'shona', 'prompt']"
   ]
  },
  {
   "cell_type": "code",
   "execution_count": null,
   "id": "fc21a734-2ecd-4503-9a09-9e2f3af3a056",
   "metadata": {},
   "outputs": [],
   "source": [
    "ax = hackaprompt['level'].value_counts(normalize=True).plot(kind='bar', figsize=(4,3))\n",
    "ax.set_title('Level Distribution', size=14)\n",
    "ax.set_ylabel('Percentage (%)')\n",
    "ax.set_xlabel('Level')\n",
    "plt.xticks(rotation=0)\n",
    "plt.show()"
   ]
  },
  {
   "cell_type": "code",
   "execution_count": null,
   "id": "0a79d2e5-0b2e-414f-b334-87f6740d4c9e",
   "metadata": {},
   "outputs": [],
   "source": [
    "ax = hackaprompt['model'].value_counts(normalize=True).plot(kind='bar', figsize=(4,3))\n",
    "ax.set_title('Model Distribution', size=14)\n",
    "ax.set_ylabel('Percentage (%)')\n",
    "ax.set_xlabel('Model Name')\n",
    "plt.xticks(rotation=10)\n",
    "plt.show()"
   ]
  },
  {
   "cell_type": "code",
   "execution_count": null,
   "id": "fcfb200a-b56b-4c6b-9c55-931da0d4f062",
   "metadata": {},
   "outputs": [],
   "source": [
    "fig, ax = plt.subplots(figsize=(4,3))\n",
    "sns.histplot(data=hackaprompt, x='token_count', stat='percent', element=\"step\", fill=True, cumulative=True, ax=ax)\n",
    "ax.set_title('CDF of Token Count', size=14)\n",
    "ax.set_ylabel('Percentage (%)')\n",
    "ax.set_xlabel('Token Count')\n",
    "ax.set_xlim(0, 200)\n",
    "ax.set_xticks(range(0, 201, 50))\n",
    "plt.show()"
   ]
  },
  {
   "cell_type": "markdown",
   "id": "52961f38-b730-4a6f-b8d1-8f767a3f94e4",
   "metadata": {},
   "source": [
    "## Prompt Injection Dataset"
   ]
  },
  {
   "cell_type": "code",
   "execution_count": null,
   "id": "1f295f36-885d-4098-b088-040b63a1f0d0",
   "metadata": {},
   "outputs": [],
   "source": [
    "# sampling hackprompt dataset\n",
    "malicious = hackaprompt.sample(n=no_robots.shape[0], random_state=42)\n",
    "\n",
    "# creating label column\n",
    "malicious['label'] = 1\n",
    "\n",
    "# selecting columns\n",
    "malicious = malicious[['prompt', 'label']]"
   ]
  },
  {
   "cell_type": "code",
   "execution_count": null,
   "id": "3b01e5f6-5c38-4de9-8cee-6295be32fae6",
   "metadata": {},
   "outputs": [],
   "source": [
    "# creating label column\n",
    "no_robots['label'] = 0\n",
    "\n",
    "# selecting columns\n",
    "bening = no_robots[['prompt', 'label']]"
   ]
  },
  {
   "cell_type": "code",
   "execution_count": null,
   "id": "d49ec1a4-9e3c-4bcb-a9fc-b55d55086c27",
   "metadata": {},
   "outputs": [],
   "source": [
    "# concatenating datasets\n",
    "data = pd.concat([malicious, bening])"
   ]
  },
  {
   "cell_type": "code",
   "execution_count": null,
   "id": "f51e8f4d-68bb-4233-8d29-6f4d4e1e1a77",
   "metadata": {},
   "outputs": [],
   "source": [
    "data.info()"
   ]
  },
  {
   "cell_type": "code",
   "execution_count": null,
   "id": "15f4bf89-d614-4b61-8af8-fc5e5c95ebd2",
   "metadata": {},
   "outputs": [],
   "source": [
    "ax = data['label'].value_counts(normalize=True).plot(kind='bar', figsize=(4,3))\n",
    "ax.set_title('Label Distribution', size=14)\n",
    "ax.set_ylabel('Percentage (%)')\n",
    "ax.set_xlabel('Label')\n",
    "plt.xticks(rotation=0)\n",
    "plt.show()"
   ]
  },
  {
   "cell_type": "code",
   "execution_count": null,
   "id": "a1af3343-800b-4881-aad2-266f1901a0ec",
   "metadata": {},
   "outputs": [],
   "source": [
    "# shuffling data\n",
    "data = shuffle(data, random_state=42)\n",
    "\n",
    "# train, val, and test split\n",
    "df_train, df_test = train_test_split(data, test_size=0.2)\n",
    "df_val, df_test = train_test_split(df_test, test_size=0.3)"
   ]
  },
  {
   "cell_type": "code",
   "execution_count": null,
   "id": "61015225-af6c-4669-86a2-9f367e20820f",
   "metadata": {},
   "outputs": [],
   "source": [
    "df_train.size, df_val.size, df_test.size"
   ]
  },
  {
   "cell_type": "code",
   "execution_count": null,
   "id": "b9c615b6-0282-46a6-9fad-b1e7fddc3dc6",
   "metadata": {},
   "outputs": [],
   "source": [
    "# saving datasets\n",
    "df_train.to_csv('data/prompt_injection_train.csv', index=False)\n",
    "df_val.to_csv('data/prompt_injection_val.csv', index=False)\n",
    "df_test.to_csv('data/prompt_injection_test.csv', index=False)"
   ]
  }
 ],
 "metadata": {
  "kernelspec": {
   "display_name": "Python 3 (ipykernel)",
   "language": "python",
   "name": "python3"
  },
  "language_info": {
   "codemirror_mode": {
    "name": "ipython",
    "version": 3
   },
   "file_extension": ".py",
   "mimetype": "text/x-python",
   "name": "python",
   "nbconvert_exporter": "python",
   "pygments_lexer": "ipython3",
   "version": "3.10.12"
  }
 },
 "nbformat": 4,
 "nbformat_minor": 5
}
