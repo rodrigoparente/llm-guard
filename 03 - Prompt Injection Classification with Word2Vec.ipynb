{
 "cells": [
  {
   "cell_type": "code",
   "execution_count": null,
   "id": "6f502922-b2f3-4b0f-8b84-7550296b8fd8",
   "metadata": {},
   "outputs": [],
   "source": [
    "# supress any warnings\n",
    "import warnings\n",
    "warnings.filterwarnings('ignore')"
   ]
  },
  {
   "cell_type": "code",
   "execution_count": null,
   "id": "a872b451-03b0-488f-a378-51b710285d4f",
   "metadata": {},
   "outputs": [],
   "source": [
    "# python imports\n",
    "import string\n",
    "\n",
    "# third-party imports\n",
    "import pandas as pd\n",
    "import numpy as np\n",
    "\n",
    "from sklearn.model_selection import train_test_split\n",
    "from sklearn.metrics import accuracy_score\n",
    "from sklearn.metrics import ConfusionMatrixDisplay\n",
    "from sklearn.metrics import precision_score\n",
    "from sklearn.metrics import recall_score\n",
    "from sklearn.metrics import f1_score\n",
    "from sklearn.model_selection import GridSearchCV\n",
    "from sklearn.naive_bayes import MultinomialNB\n",
    "from sklearn.ensemble import GradientBoostingClassifier\n",
    "from sklearn.ensemble import RandomForestClassifier\n",
    "from sklearn.svm import SVC\n",
    "\n",
    "from xgboost import XGBClassifier\n",
    "\n",
    "from nltk.corpus import stopwords\n",
    "from nltk.tokenize import word_tokenize\n",
    "\n",
    "from gensim.models import Word2Vec"
   ]
  },
  {
   "cell_type": "markdown",
   "id": "aca0e959-46c7-40d5-8965-197069cc985b",
   "metadata": {},
   "source": [
    "## Load Data"
   ]
  },
  {
   "cell_type": "code",
   "execution_count": null,
   "id": "0d9c6524-62ad-4ce1-b23c-70cecea2f466",
   "metadata": {},
   "outputs": [],
   "source": [
    "prompt_injection_train = pd.read_csv('data/prompt_injection_train.csv')\n",
    "prompt_injection_test = pd.read_csv('data/prompt_injection_test.csv')"
   ]
  },
  {
   "cell_type": "code",
   "execution_count": null,
   "id": "25c848ea-b295-4d31-9a33-1395ebc96f96",
   "metadata": {},
   "outputs": [],
   "source": [
    "X_train = prompt_injection_train['prompt']\n",
    "y_train = prompt_injection_train['label']\n",
    "\n",
    "X_test = prompt_injection_test['prompt']\n",
    "y_test = prompt_injection_test['label']"
   ]
  },
  {
   "cell_type": "markdown",
   "id": "048d12c6-088f-43f4-8435-a692036eb8df",
   "metadata": {},
   "source": [
    "## Preprocess the text data"
   ]
  },
  {
   "cell_type": "code",
   "execution_count": null,
   "id": "0b7723bc-d0c9-45be-9853-17817f1ca4ef",
   "metadata": {},
   "outputs": [],
   "source": [
    "stop_words = set(stopwords.words('english'))\n",
    "def preprocess(text):\n",
    "    # casting text to lowercase\n",
    "    text = text.lower()\n",
    "\n",
    "    # removing punctuation\n",
    "    text = ''.join([word for word in text if word not in string.punctuation])\n",
    "\n",
    "    # removing stop words\n",
    "    tokens = word_tokenize(text)\n",
    "    tokens = [word for word in tokens if word not in stop_words]\n",
    "\n",
    "    return ' '.join(tokens)"
   ]
  },
  {
   "cell_type": "code",
   "execution_count": null,
   "id": "f704bd3f-bf30-4f88-95a5-cd9203adb4fc",
   "metadata": {},
   "outputs": [],
   "source": [
    "X_train = X_train.apply(preprocess)\n",
    "X_test = X_test.apply(preprocess)"
   ]
  },
  {
   "cell_type": "markdown",
   "id": "fb76d4cb-c7c7-4a28-9646-c274eb493513",
   "metadata": {},
   "source": [
    "## Creating vectors"
   ]
  },
  {
   "cell_type": "code",
   "execution_count": null,
   "id": "79549e94-76ec-4549-9463-e8fe80b8ab20",
   "metadata": {},
   "outputs": [],
   "source": [
    "sentences = [sentence.split() for sentence in X_train]\n",
    "w2v_model = Word2Vec(sentences, window=5, min_count=5, workers=4)"
   ]
  },
  {
   "cell_type": "code",
   "execution_count": null,
   "id": "ff9219b5-2a61-48a6-b85a-fe767d0be9e6",
   "metadata": {},
   "outputs": [],
   "source": [
    "def vectorize(sentence):\n",
    "    words = sentence.split()\n",
    "    words_vecs = [w2v_model.wv[word] for word in words if word in w2v_model.wv]\n",
    "    if len(words_vecs) == 0:\n",
    "        return np.zeros(100)\n",
    "    words_vecs = np.array(words_vecs)\n",
    "    return words_vecs.mean(axis=0)\n",
    "\n",
    "X_train = np.array([vectorize(sentence) for sentence in X_train])\n",
    "X_test = np.array([vectorize(sentence) for sentence in X_test])"
   ]
  },
  {
   "cell_type": "markdown",
   "id": "be80b43c-5def-4b14-a807-7ceb17383855",
   "metadata": {},
   "source": [
    "## Train a classification model"
   ]
  },
  {
   "cell_type": "markdown",
   "id": "02f44cdd-2bdb-46aa-88d8-a4ca96a773a7",
   "metadata": {},
   "source": [
    "### Random Forest "
   ]
  },
  {
   "cell_type": "code",
   "execution_count": null,
   "id": "2537ba65-13ec-4d5e-9e7a-c26770300083",
   "metadata": {},
   "outputs": [],
   "source": [
    "clf = RandomForestClassifier()\n",
    "clf.fit(X_train, y_train)"
   ]
  },
  {
   "cell_type": "code",
   "execution_count": null,
   "id": "5105ea4e-2f39-4fc9-9d92-8a06bfaaf27a",
   "metadata": {},
   "outputs": [],
   "source": [
    "y_pred = clf.predict(X_test)\n",
    "\n",
    "print('Accuracy:', accuracy_score(y_test, y_pred))\n",
    "print('Precision:', precision_score(y_test, y_pred))\n",
    "print('Recall:', recall_score(y_test, y_pred))\n",
    "print('F1 score:', f1_score(y_test, y_pred))"
   ]
  },
  {
   "cell_type": "code",
   "execution_count": null,
   "id": "dc46c6b6-1bcd-43d3-ae9d-1df446917a17",
   "metadata": {},
   "outputs": [],
   "source": [
    "ConfusionMatrixDisplay.from_predictions(y_test, y_pred, cmap='Blues', normalize='true')"
   ]
  },
  {
   "cell_type": "markdown",
   "id": "b4008344-cfc9-4049-96fc-48a5884998d9",
   "metadata": {},
   "source": [
    "### Gradient Boosting"
   ]
  },
  {
   "cell_type": "code",
   "execution_count": null,
   "id": "5fc1e5cd-76d4-4247-96d8-fd3c3a56020e",
   "metadata": {},
   "outputs": [],
   "source": [
    "clf = GradientBoostingClassifier()\n",
    "clf.fit(X_train, y_train)"
   ]
  },
  {
   "cell_type": "code",
   "execution_count": null,
   "id": "27131614-1350-4bea-a28a-272d67c46e16",
   "metadata": {},
   "outputs": [],
   "source": [
    "y_pred = clf.predict(X_test)\n",
    "\n",
    "print('Accuracy:', accuracy_score(y_test, y_pred))\n",
    "print('Precision:', precision_score(y_test, y_pred))\n",
    "print('Recall:', recall_score(y_test, y_pred))\n",
    "print('F1 score:', f1_score(y_test, y_pred))"
   ]
  },
  {
   "cell_type": "code",
   "execution_count": null,
   "id": "f7d9e451-ca9b-4b25-baac-3755085c6216",
   "metadata": {},
   "outputs": [],
   "source": [
    "ConfusionMatrixDisplay.from_predictions(y_test, y_pred, cmap='Blues', normalize='true')"
   ]
  },
  {
   "cell_type": "markdown",
   "id": "412343a0-98a4-4b3a-85e9-bd13da758a8c",
   "metadata": {},
   "source": [
    "### SVC"
   ]
  },
  {
   "cell_type": "code",
   "execution_count": null,
   "id": "b66e2893-b7c2-4ee0-a124-794eb38dde22",
   "metadata": {},
   "outputs": [],
   "source": [
    "clf = SVC()\n",
    "clf.fit(X_train, y_train)"
   ]
  },
  {
   "cell_type": "code",
   "execution_count": null,
   "id": "ca0f8bab-d4c0-44fa-a543-a76c71055067",
   "metadata": {},
   "outputs": [],
   "source": [
    "y_pred = clf.predict(X_test)\n",
    "\n",
    "print('Accuracy:', accuracy_score(y_test, y_pred))\n",
    "print('Precision:', precision_score(y_test, y_pred))\n",
    "print('Recall:', recall_score(y_test, y_pred))\n",
    "print('F1 score:', f1_score(y_test, y_pred))"
   ]
  },
  {
   "cell_type": "code",
   "execution_count": null,
   "id": "ca7de09f-eb73-438c-8125-a0f4697efe35",
   "metadata": {},
   "outputs": [],
   "source": [
    "ConfusionMatrixDisplay.from_predictions(y_test, y_pred, cmap='Blues', normalize='true')"
   ]
  },
  {
   "cell_type": "markdown",
   "id": "04320f3f-3c34-4634-91e0-fa463844a851",
   "metadata": {},
   "source": [
    "### XGBoost"
   ]
  },
  {
   "cell_type": "code",
   "execution_count": null,
   "id": "13819656-43ab-4d26-9d13-b62fadbe0c85",
   "metadata": {},
   "outputs": [],
   "source": [
    "clf = XGBClassifier()\n",
    "clf.fit(X_train, y_train)"
   ]
  },
  {
   "cell_type": "code",
   "execution_count": null,
   "id": "31d14e92-9cf0-457a-9e32-53b55aa358c4",
   "metadata": {},
   "outputs": [],
   "source": [
    "y_pred = clf.predict(X_test)\n",
    "\n",
    "print('Accuracy:', accuracy_score(y_test, y_pred))\n",
    "print('Precision:', precision_score(y_test, y_pred))\n",
    "print('Recall:', recall_score(y_test, y_pred))\n",
    "print('F1 score:', f1_score(y_test, y_pred))"
   ]
  },
  {
   "cell_type": "code",
   "execution_count": null,
   "id": "f5be0951-9d89-494c-8ead-6aafe68fce2f",
   "metadata": {},
   "outputs": [],
   "source": [
    "ConfusionMatrixDisplay.from_predictions(y_test, y_pred, cmap='Blues', normalize='true')"
   ]
  },
  {
   "cell_type": "markdown",
   "id": "47f468fd-66cb-469e-91f8-9a7c733c4912",
   "metadata": {},
   "source": [
    "### Naive Bayes"
   ]
  },
  {
   "cell_type": "code",
   "execution_count": null,
   "id": "56ac411f-cc78-425d-8d17-f820fcabfd80",
   "metadata": {},
   "outputs": [],
   "source": [
    "clf = MultinomialNB()\n",
    "clf.fit(X_train, y_train)"
   ]
  },
  {
   "cell_type": "code",
   "execution_count": null,
   "id": "58ad8968-a490-4b86-b420-b82e4aa02a2f",
   "metadata": {},
   "outputs": [],
   "source": [
    "y_pred = clf.predict(X_test)\n",
    "\n",
    "print('Accuracy:', accuracy_score(y_test, y_pred))\n",
    "print('Precision:', precision_score(y_test, y_pred))\n",
    "print('Recall:', recall_score(y_test, y_pred))\n",
    "print('F1 score:', f1_score(y_test, y_pred))"
   ]
  },
  {
   "cell_type": "code",
   "execution_count": null,
   "id": "9a08a765-e00c-40d5-9f3e-4e589eb0f1f4",
   "metadata": {},
   "outputs": [],
   "source": [
    "ConfusionMatrixDisplay.from_predictions(y_test, y_pred, cmap='Blues', normalize='true')"
   ]
  }
 ],
 "metadata": {
  "kernelspec": {
   "display_name": "Python 3 (ipykernel)",
   "language": "python",
   "name": "python3"
  },
  "language_info": {
   "codemirror_mode": {
    "name": "ipython",
    "version": 3
   },
   "file_extension": ".py",
   "mimetype": "text/x-python",
   "name": "python",
   "nbconvert_exporter": "python",
   "pygments_lexer": "ipython3",
   "version": "3.10.12"
  }
 },
 "nbformat": 4,
 "nbformat_minor": 5
}
