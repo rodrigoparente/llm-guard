{
 "cells": [
  {
   "cell_type": "code",
   "execution_count": 1,
   "id": "6f502922-b2f3-4b0f-8b84-7550296b8fd8",
   "metadata": {},
   "outputs": [],
   "source": [
    "# supress any warnings\n",
    "import warnings\n",
    "warnings.filterwarnings('ignore')"
   ]
  },
  {
   "cell_type": "code",
   "execution_count": 2,
   "id": "a872b451-03b0-488f-a378-51b710285d4f",
   "metadata": {},
   "outputs": [],
   "source": [
    "# python imports\n",
    "from collections import defaultdict\n",
    "\n",
    "# third-party imports\n",
    "import pandas as pd\n",
    "import numpy as np\n",
    "\n",
    "from sklearn.metrics import confusion_matrix\n",
    "from sklearn.metrics import ConfusionMatrixDisplay\n",
    "from sklearn.metrics import accuracy_score\n",
    "from sklearn.metrics import precision_score\n",
    "from sklearn.metrics import recall_score\n",
    "from sklearn.metrics import f1_score\n",
    "from sklearn.feature_extraction.text import TfidfVectorizer\n",
    "from sklearn.linear_model import LogisticRegression\n",
    "from sklearn.neural_network import MLPClassifier\n",
    "from sklearn.ensemble import GradientBoostingClassifier\n",
    "from sklearn.ensemble import RandomForestClassifier\n",
    "from sklearn.svm import SVC\n",
    "\n",
    "import matplotlib.pyplot as plt\n",
    "import seaborn as sns"
   ]
  },
  {
   "cell_type": "markdown",
   "id": "aca0e959-46c7-40d5-8965-197069cc985b",
   "metadata": {},
   "source": [
    "## Load Data"
   ]
  },
  {
   "cell_type": "code",
   "execution_count": 3,
   "id": "0d9c6524-62ad-4ce1-b23c-70cecea2f466",
   "metadata": {},
   "outputs": [],
   "source": [
    "prompt_injection_train = pd.read_csv('data/prompt_injection_train.csv')\n",
    "prompt_injection_test = pd.read_csv('data/prompt_injection_test.csv')"
   ]
  },
  {
   "cell_type": "code",
   "execution_count": 4,
   "id": "f30e4835-45df-4c6d-8268-568d9b22441c",
   "metadata": {},
   "outputs": [],
   "source": [
    "X_train = prompt_injection_train['prompt']\n",
    "y_train = prompt_injection_train['label']\n",
    "\n",
    "X_test = prompt_injection_test['prompt']\n",
    "y_test = prompt_injection_test['label']"
   ]
  },
  {
   "cell_type": "markdown",
   "id": "fb76d4cb-c7c7-4a28-9646-c274eb493513",
   "metadata": {},
   "source": [
    "## Creating vectors"
   ]
  },
  {
   "cell_type": "code",
   "execution_count": 5,
   "id": "0b7723bc-d0c9-45be-9853-17817f1ca4ef",
   "metadata": {},
   "outputs": [],
   "source": [
    "tfidf = TfidfVectorizer(max_features=10000, ngram_range=(1,2), lowercase=True, stop_words='english')\n",
    "\n",
    "X_train = tfidf.fit_transform(X_train)\n",
    "X_test = tfidf.transform(X_test)"
   ]
  },
  {
   "cell_type": "markdown",
   "id": "be80b43c-5def-4b14-a807-7ceb17383855",
   "metadata": {},
   "source": [
    "## Train a classification model"
   ]
  },
  {
   "cell_type": "code",
   "execution_count": 6,
   "id": "183e491b-b03f-4f3d-85e3-45d2f5ec9c36",
   "metadata": {},
   "outputs": [],
   "source": [
    "model_names = ['LogisticRegression', 'RandomForest', 'GradientBoosting', 'SVC', 'MLP']\n",
    "models = [LogisticRegression(), RandomForestClassifier(), GradientBoostingClassifier(), SVC(), MLPClassifier()]\n",
    "\n",
    "results = dict()\n",
    "\n",
    "for model, model_name in zip(models, model_names):        \n",
    "    model.fit(X_train, y_train)\n",
    "    y_pred = model.predict(X_test)\n",
    "    \n",
    "    results.setdefault(model_name, {\n",
    "        'accuracy': accuracy_score(y_test, y_pred),\n",
    "        'precision': precision_score(y_test, y_pred),\n",
    "        'recall': recall_score(y_test, y_pred),\n",
    "        'f1_score': f1_score(y_test, y_pred),\n",
    "        'cm': confusion_matrix(y_test, y_pred, labels=[0, 1], normalize='true')\n",
    "    })"
   ]
  },
  {
   "cell_type": "code",
   "execution_count": 7,
   "id": "2fa05013-62e3-49c8-bc00-2fd3dde203a6",
   "metadata": {},
   "outputs": [],
   "source": [
    "data = pd.DataFrame({\n",
    "    'model': model_names,\n",
    "    'accuracy': [results[model_name]['accuracy'] for model_name in model_names],\n",
    "    'precision': [results[model_name]['precision'] for model_name in model_names],\n",
    "    'recall': [results[model_name]['recall'] for model_name in model_names],\n",
    "    'f1_score': [results[model_name]['f1_score'] for model_name in model_names],\n",
    "})"
   ]
  },
  {
   "cell_type": "code",
   "execution_count": 8,
   "id": "bb530c8c-8f55-4655-a2f1-9473fb7e019b",
   "metadata": {},
   "outputs": [
    {
     "data": {
      "text/html": [
       "<div>\n",
       "<style scoped>\n",
       "    .dataframe tbody tr th:only-of-type {\n",
       "        vertical-align: middle;\n",
       "    }\n",
       "\n",
       "    .dataframe tbody tr th {\n",
       "        vertical-align: top;\n",
       "    }\n",
       "\n",
       "    .dataframe thead th {\n",
       "        text-align: right;\n",
       "    }\n",
       "</style>\n",
       "<table border=\"1\" class=\"dataframe\">\n",
       "  <thead>\n",
       "    <tr style=\"text-align: right;\">\n",
       "      <th></th>\n",
       "      <th>model</th>\n",
       "      <th>accuracy</th>\n",
       "      <th>precision</th>\n",
       "      <th>recall</th>\n",
       "      <th>f1_score</th>\n",
       "    </tr>\n",
       "  </thead>\n",
       "  <tbody>\n",
       "    <tr>\n",
       "      <th>0</th>\n",
       "      <td>LogisticRegression</td>\n",
       "      <td>0.996044</td>\n",
       "      <td>0.942356</td>\n",
       "      <td>0.624585</td>\n",
       "      <td>0.751249</td>\n",
       "    </tr>\n",
       "    <tr>\n",
       "      <th>1</th>\n",
       "      <td>RandomForest</td>\n",
       "      <td>0.999730</td>\n",
       "      <td>0.977162</td>\n",
       "      <td>0.995017</td>\n",
       "      <td>0.986008</td>\n",
       "    </tr>\n",
       "    <tr>\n",
       "      <th>2</th>\n",
       "      <td>GradientBoosting</td>\n",
       "      <td>0.997363</td>\n",
       "      <td>0.937751</td>\n",
       "      <td>0.775748</td>\n",
       "      <td>0.849091</td>\n",
       "    </tr>\n",
       "    <tr>\n",
       "      <th>3</th>\n",
       "      <td>SVC</td>\n",
       "      <td>0.998681</td>\n",
       "      <td>0.960924</td>\n",
       "      <td>0.898671</td>\n",
       "      <td>0.928755</td>\n",
       "    </tr>\n",
       "    <tr>\n",
       "      <th>4</th>\n",
       "      <td>MLP</td>\n",
       "      <td>0.999635</td>\n",
       "      <td>0.994872</td>\n",
       "      <td>0.966777</td>\n",
       "      <td>0.980623</td>\n",
       "    </tr>\n",
       "  </tbody>\n",
       "</table>\n",
       "</div>"
      ],
      "text/plain": [
       "                model  accuracy  precision    recall  f1_score\n",
       "0  LogisticRegression  0.996044   0.942356  0.624585  0.751249\n",
       "1        RandomForest  0.999730   0.977162  0.995017  0.986008\n",
       "2    GradientBoosting  0.997363   0.937751  0.775748  0.849091\n",
       "3                 SVC  0.998681   0.960924  0.898671  0.928755\n",
       "4                 MLP  0.999635   0.994872  0.966777  0.980623"
      ]
     },
     "execution_count": 8,
     "metadata": {},
     "output_type": "execute_result"
    }
   ],
   "source": [
    "data"
   ]
  },
  {
   "cell_type": "code",
   "execution_count": 9,
   "id": "b0de9853-a0e6-450e-8f89-f1e7119b707e",
   "metadata": {},
   "outputs": [
    {
     "data": {
      "image/png": "[encoded data removed]",
      "text/plain": [
       "<Figure size 1200x300 with 6 Axes>"
      ]
     },
     "metadata": {},
     "output_type": "display_data"
    }
   ],
   "source": [
    "labels = ['Bening', 'Malicious']\n",
    "titles = results.keys()\n",
    "cms = [results[model_name]['cm'] for model_name in model_names]\n",
    "\n",
    "fig, axes = plt.subplots(1, 5, figsize=(12, 3), constrained_layout=True)\n",
    "\n",
    "fig.suptitle(f'Confusion Matrices', size=16)\n",
    "\n",
    "for index, (axe, cm, title) in enumerate(zip(axes, cms, titles)):\n",
    "    \n",
    "    yticks = labels if index == 0 else False\n",
    "    draw_cbar = True if index == 4 else False\n",
    "    \n",
    "    axe.set_title(title)\n",
    "    axe = sns.heatmap(cm, ax=axe, annot=True, fmt=\".2f\", linewidths=.5, cmap=plt.cm.Blues, \n",
    "                      yticklabels=yticks, xticklabels=labels, cbar=draw_cbar)\n",
    "    \n",
    "    axe.set_xticklabels(axe.get_xticklabels(), rotation=40)\n",
    "    axe.set_yticklabels(axe.get_yticklabels(), rotation=40)\n",
    "    \n",
    "plt.show()"
   ]
  }
 ],
 "metadata": {
  "kernelspec": {
   "display_name": "Python 3 (ipykernel)",
   "language": "python",
   "name": "python3"
  },
  "language_info": {
   "codemirror_mode": {
    "name": "ipython",
    "version": 3
   },
   "file_extension": ".py",
   "mimetype": "text/x-python",
   "name": "python",
   "nbconvert_exporter": "python",
   "pygments_lexer": "ipython3",
   "version": "3.10.12"
  }
 },
 "nbformat": 4,
 "nbformat_minor": 5
}
