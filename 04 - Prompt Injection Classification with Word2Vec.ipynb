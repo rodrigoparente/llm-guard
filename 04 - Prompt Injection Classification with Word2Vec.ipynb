{
 "cells": [
  {
   "cell_type": "code",
   "execution_count": 1,
   "id": "6f502922-b2f3-4b0f-8b84-7550296b8fd8",
   "metadata": {},
   "outputs": [],
   "source": [
    "# supress any warnings\n",
    "import warnings\n",
    "warnings.filterwarnings('ignore')"
   ]
  },
  {
   "cell_type": "code",
   "execution_count": 2,
   "id": "a872b451-03b0-488f-a378-51b710285d4f",
   "metadata": {},
   "outputs": [],
   "source": [
    "# python imports\n",
    "import string\n",
    "\n",
    "# third-party imports\n",
    "import pandas as pd\n",
    "import numpy as np\n",
    "\n",
    "from sklearn.metrics import confusion_matrix\n",
    "from sklearn.metrics import accuracy_score\n",
    "from sklearn.metrics import precision_score\n",
    "from sklearn.metrics import recall_score\n",
    "from sklearn.metrics import f1_score\n",
    "from sklearn.linear_model import LogisticRegression\n",
    "from sklearn.neural_network import MLPClassifier\n",
    "from sklearn.ensemble import GradientBoostingClassifier\n",
    "from sklearn.ensemble import RandomForestClassifier\n",
    "from sklearn.svm import SVC\n",
    "\n",
    "from nltk.corpus import stopwords\n",
    "from nltk.tokenize import word_tokenize\n",
    "\n",
    "from gensim.models import Word2Vec\n",
    "\n",
    "import matplotlib.pyplot as plt\n",
    "import seaborn as sns"
   ]
  },
  {
   "cell_type": "markdown",
   "id": "aca0e959-46c7-40d5-8965-197069cc985b",
   "metadata": {},
   "source": [
    "## Load Data"
   ]
  },
  {
   "cell_type": "code",
   "execution_count": 3,
   "id": "0d9c6524-62ad-4ce1-b23c-70cecea2f466",
   "metadata": {},
   "outputs": [],
   "source": [
    "prompt_injection_train = pd.read_csv('data/prompt_injection_train.csv')\n",
    "prompt_injection_test = pd.read_csv('data/prompt_injection_test.csv')"
   ]
  },
  {
   "cell_type": "code",
   "execution_count": 4,
   "id": "25c848ea-b295-4d31-9a33-1395ebc96f96",
   "metadata": {},
   "outputs": [],
   "source": [
    "X_train = prompt_injection_train['prompt']\n",
    "y_train = prompt_injection_train['label']\n",
    "\n",
    "X_test = prompt_injection_test['prompt']\n",
    "y_test = prompt_injection_test['label']"
   ]
  },
  {
   "cell_type": "markdown",
   "id": "048d12c6-088f-43f4-8435-a692036eb8df",
   "metadata": {},
   "source": [
    "## Preprocess the text data"
   ]
  },
  {
   "cell_type": "code",
   "execution_count": 5,
   "id": "0b7723bc-d0c9-45be-9853-17817f1ca4ef",
   "metadata": {},
   "outputs": [],
   "source": [
    "stop_words = set(stopwords.words('english'))\n",
    "def preprocess(text):\n",
    "    # casting text to lowercase\n",
    "    text = text.lower()\n",
    "\n",
    "    # removing punctuation\n",
    "    text = ''.join([word for word in text if word not in string.punctuation])\n",
    "\n",
    "    # removing stop words\n",
    "    tokens = word_tokenize(text)\n",
    "    tokens = [word for word in tokens if word not in stop_words]\n",
    "\n",
    "    return ' '.join(tokens)"
   ]
  },
  {
   "cell_type": "code",
   "execution_count": 6,
   "id": "f704bd3f-bf30-4f88-95a5-cd9203adb4fc",
   "metadata": {},
   "outputs": [],
   "source": [
    "X_train = X_train.apply(preprocess)\n",
    "X_test = X_test.apply(preprocess)"
   ]
  },
  {
   "cell_type": "markdown",
   "id": "fb76d4cb-c7c7-4a28-9646-c274eb493513",
   "metadata": {},
   "source": [
    "## Creating vectors"
   ]
  },
  {
   "cell_type": "code",
   "execution_count": 7,
   "id": "79549e94-76ec-4549-9463-e8fe80b8ab20",
   "metadata": {},
   "outputs": [],
   "source": [
    "sentences = [sentence.split() for sentence in X_train]\n",
    "w2v_model = Word2Vec(sentences, window=5, min_count=5, workers=4)"
   ]
  },
  {
   "cell_type": "code",
   "execution_count": 8,
   "id": "ff9219b5-2a61-48a6-b85a-fe767d0be9e6",
   "metadata": {},
   "outputs": [],
   "source": [
    "def vectorize(sentence):\n",
    "    words = sentence.split()\n",
    "    words_vecs = [w2v_model.wv[word] for word in words if word in w2v_model.wv]\n",
    "    if len(words_vecs) == 0:\n",
    "        return np.zeros(100)\n",
    "    words_vecs = np.array(words_vecs)\n",
    "    return words_vecs.mean(axis=0)\n",
    "\n",
    "X_train = np.array([vectorize(sentence) for sentence in X_train])\n",
    "X_test = np.array([vectorize(sentence) for sentence in X_test])"
   ]
  },
  {
   "cell_type": "markdown",
   "id": "be80b43c-5def-4b14-a807-7ceb17383855",
   "metadata": {},
   "source": [
    "## Train a classification model"
   ]
  },
  {
   "cell_type": "code",
   "execution_count": 9,
   "id": "616cf486-9efd-4561-9af3-d3432a2650a2",
   "metadata": {},
   "outputs": [],
   "source": [
    "model_names = ['LogisticRegression', 'RandomForest', 'GradientBoosting', 'SVC', 'MLP']\n",
    "models = [LogisticRegression(), RandomForestClassifier(), GradientBoostingClassifier(), SVC(), MLPClassifier()]\n",
    "\n",
    "results = dict()\n",
    "\n",
    "for model, model_name in zip(models, model_names):        \n",
    "    model.fit(X_train, y_train)\n",
    "    y_pred = model.predict(X_test)\n",
    "    \n",
    "    results.setdefault(model_name, {\n",
    "        'accuracy': accuracy_score(y_test, y_pred),\n",
    "        'precision': precision_score(y_test, y_pred),\n",
    "        'recall': recall_score(y_test, y_pred),\n",
    "        'f1_score': f1_score(y_test, y_pred),\n",
    "        'cm': confusion_matrix(y_test, y_pred, labels=[0, 1], normalize='true')\n",
    "    })"
   ]
  },
  {
   "cell_type": "markdown",
   "id": "56a209d9-baa8-4fa7-8e10-bd8ae3e24a67",
   "metadata": {},
   "source": [
    "## Results"
   ]
  },
  {
   "cell_type": "code",
   "execution_count": 10,
   "id": "4f34313b-643c-48f6-a009-b91ce69cd51f",
   "metadata": {},
   "outputs": [],
   "source": [
    "data = pd.DataFrame({\n",
    "    'model': model_names,\n",
    "    'accuracy': [results[model_name]['accuracy'] for model_name in model_names],\n",
    "    'precision': [results[model_name]['precision'] for model_name in model_names],\n",
    "    'recall': [results[model_name]['recall'] for model_name in model_names],\n",
    "    'f1_score': [results[model_name]['f1_score'] for model_name in model_names],\n",
    "})"
   ]
  },
  {
   "cell_type": "code",
   "execution_count": 11,
   "id": "922df9be-b874-4b0f-875b-c266f64d9c6c",
   "metadata": {},
   "outputs": [
    {
     "data": {
      "text/html": [
       "<div>\n",
       "<style scoped>\n",
       "    .dataframe tbody tr th:only-of-type {\n",
       "        vertical-align: middle;\n",
       "    }\n",
       "\n",
       "    .dataframe tbody tr th {\n",
       "        vertical-align: top;\n",
       "    }\n",
       "\n",
       "    .dataframe thead th {\n",
       "        text-align: right;\n",
       "    }\n",
       "</style>\n",
       "<table border=\"1\" class=\"dataframe\">\n",
       "  <thead>\n",
       "    <tr style=\"text-align: right;\">\n",
       "      <th></th>\n",
       "      <th>model</th>\n",
       "      <th>accuracy</th>\n",
       "      <th>precision</th>\n",
       "      <th>recall</th>\n",
       "      <th>f1_score</th>\n",
       "    </tr>\n",
       "  </thead>\n",
       "  <tbody>\n",
       "    <tr>\n",
       "      <th>0</th>\n",
       "      <td>LogisticRegression</td>\n",
       "      <td>0.995488</td>\n",
       "      <td>0.856502</td>\n",
       "      <td>0.634551</td>\n",
       "      <td>0.729008</td>\n",
       "    </tr>\n",
       "    <tr>\n",
       "      <th>1</th>\n",
       "      <td>RandomForest</td>\n",
       "      <td>0.999825</td>\n",
       "      <td>0.985222</td>\n",
       "      <td>0.996678</td>\n",
       "      <td>0.990917</td>\n",
       "    </tr>\n",
       "    <tr>\n",
       "      <th>2</th>\n",
       "      <td>GradientBoosting</td>\n",
       "      <td>0.996092</td>\n",
       "      <td>0.908257</td>\n",
       "      <td>0.657807</td>\n",
       "      <td>0.763006</td>\n",
       "    </tr>\n",
       "    <tr>\n",
       "      <th>3</th>\n",
       "      <td>SVC</td>\n",
       "      <td>0.997283</td>\n",
       "      <td>0.937120</td>\n",
       "      <td>0.767442</td>\n",
       "      <td>0.843836</td>\n",
       "    </tr>\n",
       "    <tr>\n",
       "      <th>4</th>\n",
       "      <td>MLP</td>\n",
       "      <td>0.999396</td>\n",
       "      <td>0.971572</td>\n",
       "      <td>0.965116</td>\n",
       "      <td>0.968333</td>\n",
       "    </tr>\n",
       "  </tbody>\n",
       "</table>\n",
       "</div>"
      ],
      "text/plain": [
       "                model  accuracy  precision    recall  f1_score\n",
       "0  LogisticRegression  0.995488   0.856502  0.634551  0.729008\n",
       "1        RandomForest  0.999825   0.985222  0.996678  0.990917\n",
       "2    GradientBoosting  0.996092   0.908257  0.657807  0.763006\n",
       "3                 SVC  0.997283   0.937120  0.767442  0.843836\n",
       "4                 MLP  0.999396   0.971572  0.965116  0.968333"
      ]
     },
     "execution_count": 11,
     "metadata": {},
     "output_type": "execute_result"
    }
   ],
   "source": [
    "data"
   ]
  },
  {
   "cell_type": "code",
   "execution_count": 12,
   "id": "b79e501e-423c-4c92-88fa-e20bb14a36cd",
   "metadata": {},
   "outputs": [
    {
     "data": {
      "image/png": "[encoded data removed]",
      "text/plain": [
       "<Figure size 1200x300 with 6 Axes>"
      ]
     },
     "metadata": {},
     "output_type": "display_data"
    }
   ],
   "source": [
    "labels = ['Bening', 'Malicious']\n",
    "titles = results.keys()\n",
    "cms = [results[model_name]['cm'] for model_name in model_names]\n",
    "\n",
    "fig, axes = plt.subplots(1, 5, figsize=(12, 3), constrained_layout=True)\n",
    "\n",
    "fig.suptitle(f'Word2Vec Confusion Matrices', size=16)\n",
    "\n",
    "for index, (axe, cm, title) in enumerate(zip(axes, cms, titles)):\n",
    "    \n",
    "    yticks = labels if index == 0 else False\n",
    "    draw_cbar = True if index == 4 else False\n",
    "    \n",
    "    axe.set_title(title)\n",
    "    axe = sns.heatmap(cm, ax=axe, annot=True, fmt=\".2f\", linewidths=.5, cmap=plt.cm.Blues, \n",
    "                      yticklabels=yticks, xticklabels=labels, cbar=draw_cbar)\n",
    "    \n",
    "    axe.set_xticklabels(axe.get_xticklabels(), rotation=40)\n",
    "    axe.set_yticklabels(axe.get_yticklabels(), rotation=40)\n",
    "    \n",
    "plt.show()"
   ]
  }
 ],
 "metadata": {
  "kernelspec": {
   "display_name": "Python 3 (ipykernel)",
   "language": "python",
   "name": "python3"
  },
  "language_info": {
   "codemirror_mode": {
    "name": "ipython",
    "version": 3
   },
   "file_extension": ".py",
   "mimetype": "text/x-python",
   "name": "python",
   "nbconvert_exporter": "python",
   "pygments_lexer": "ipython3",
   "version": "3.10.12"
  }
 },
 "nbformat": 4,
 "nbformat_minor": 5
}
