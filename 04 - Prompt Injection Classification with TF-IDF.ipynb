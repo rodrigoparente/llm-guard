{
 "cells": [
  {
   "cell_type": "code",
   "execution_count": null,
   "id": "6f502922-b2f3-4b0f-8b84-7550296b8fd8",
   "metadata": {},
   "outputs": [],
   "source": [
    "# supress any warnings\n",
    "import warnings\n",
    "warnings.filterwarnings('ignore')"
   ]
  },
  {
   "cell_type": "code",
   "execution_count": null,
   "id": "a872b451-03b0-488f-a378-51b710285d4f",
   "metadata": {},
   "outputs": [],
   "source": [
    "# python imports\n",
    "from collections import defaultdict\n",
    "\n",
    "# third-party imports\n",
    "import pandas as pd\n",
    "import numpy as np\n",
    "\n",
    "from sklearn.model_selection import train_test_split\n",
    "from sklearn.metrics import accuracy_score\n",
    "from sklearn.metrics import ConfusionMatrixDisplay\n",
    "from sklearn.metrics import precision_score\n",
    "from sklearn.metrics import recall_score\n",
    "from sklearn.metrics import f1_score\n",
    "from sklearn.pipeline import Pipeline\n",
    "from sklearn.model_selection import train_test_split\n",
    "from sklearn.model_selection import GridSearchCV\n",
    "from sklearn.feature_extraction.text import TfidfVectorizer\n",
    "from sklearn.naive_bayes import MultinomialNB\n",
    "from sklearn.ensemble import GradientBoostingClassifier\n",
    "from sklearn.ensemble import RandomForestClassifier\n",
    "from sklearn.svm import SVC\n",
    "\n",
    "from xgboost import XGBClassifier"
   ]
  },
  {
   "cell_type": "markdown",
   "id": "aca0e959-46c7-40d5-8965-197069cc985b",
   "metadata": {},
   "source": [
    "## Load Data"
   ]
  },
  {
   "cell_type": "code",
   "execution_count": null,
   "id": "0d9c6524-62ad-4ce1-b23c-70cecea2f466",
   "metadata": {},
   "outputs": [],
   "source": [
    "prompt_injection_train = pd.read_csv('data/prompt_injection_train.csv')\n",
    "prompt_injection_test = pd.read_csv('data/prompt_injection_test.csv')"
   ]
  },
  {
   "cell_type": "code",
   "execution_count": null,
   "id": "f30e4835-45df-4c6d-8268-568d9b22441c",
   "metadata": {},
   "outputs": [],
   "source": [
    "X_train = prompt_injection_train['prompt']\n",
    "y_train = prompt_injection_train['label']\n",
    "\n",
    "X_test = prompt_injection_test['prompt']\n",
    "y_test = prompt_injection_test['label']"
   ]
  },
  {
   "cell_type": "markdown",
   "id": "fb76d4cb-c7c7-4a28-9646-c274eb493513",
   "metadata": {},
   "source": [
    "## Creating vectors"
   ]
  },
  {
   "cell_type": "code",
   "execution_count": null,
   "id": "0b7723bc-d0c9-45be-9853-17817f1ca4ef",
   "metadata": {},
   "outputs": [],
   "source": [
    "tfidf = TfidfVectorizer(max_features=10000, ngram_range=(1,2), lowercase=True, stop_words='english')\n",
    "\n",
    "X_train = tfidf.fit_transform(X_train)\n",
    "X_test = tfidf.transform(X_test)"
   ]
  },
  {
   "cell_type": "markdown",
   "id": "be80b43c-5def-4b14-a807-7ceb17383855",
   "metadata": {},
   "source": [
    "## Train a classification model"
   ]
  },
  {
   "cell_type": "markdown",
   "id": "93c1a157-d0e7-4177-ba01-be17dc85d9f1",
   "metadata": {},
   "source": [
    "### Random Forest"
   ]
  },
  {
   "cell_type": "code",
   "execution_count": null,
   "id": "2537ba65-13ec-4d5e-9e7a-c26770300083",
   "metadata": {},
   "outputs": [],
   "source": [
    "clf = GridSearchCV(RandomForestClassifier(), param_grid={\n",
    "    'n_estimators': [50, 100, 200, 500],\n",
    "    'max_features': ['auto', 'sqrt', 'log2'],\n",
    "    'max_depth': [4, 5, 6, 7, 8],\n",
    "    'criterion': ['gini', 'entropy']\n",
    "}, scoring='accuracy', cv=5, n_jobs=-1)\n",
    "\n",
    "clf.fit(X_train, y_train)"
   ]
  },
  {
   "cell_type": "code",
   "execution_count": null,
   "id": "31d14e92-9cf0-457a-9e32-53b55aa358c4",
   "metadata": {},
   "outputs": [],
   "source": [
    "y_pred = clf.predict(X_test)\n",
    "\n",
    "print('Accuracy:', accuracy_score(y_test, y_pred))\n",
    "print('Precision:', precision_score(y_test, y_pred))\n",
    "print('Recall:', recall_score(y_test, y_pred))\n",
    "print('F1 score:', f1_score(y_test, y_pred))"
   ]
  },
  {
   "cell_type": "code",
   "execution_count": null,
   "id": "f5be0951-9d89-494c-8ead-6aafe68fce2f",
   "metadata": {},
   "outputs": [],
   "source": [
    "ConfusionMatrixDisplay.from_predictions(y_test, y_pred, cmap='Blues', normalize='true')"
   ]
  },
  {
   "cell_type": "markdown",
   "id": "0d046bd8-156c-4a77-991f-3cd46cea4b6d",
   "metadata": {},
   "source": [
    "### Gradient Boosting"
   ]
  },
  {
   "cell_type": "code",
   "execution_count": null,
   "id": "f88970b2-d5d6-4aad-9d37-723d649ac60b",
   "metadata": {},
   "outputs": [],
   "source": [
    "clf = GridSearchCV(GradientBoostingClassifier(), param_grid={\n",
    "    'learning_rate': [0.01, 0.05, 0.1, 0.2],\n",
    "    'max_depth': [2, 3, 5, 7],\n",
    "    'n_estimators': [50, 100, 200]\n",
    "}, scoring='accuracy', cv=5, n_jobs=-1)\n",
    "\n",
    "clf.fit(X_train, y_train)"
   ]
  },
  {
   "cell_type": "code",
   "execution_count": null,
   "id": "76e41576-22a5-45b6-9e29-3dfe683a9f9e",
   "metadata": {},
   "outputs": [],
   "source": [
    "y_pred = clf.predict(X_test)\n",
    "\n",
    "print('Accuracy:', accuracy_score(y_test, y_pred))\n",
    "print('Precision:', precision_score(y_test, y_pred))\n",
    "print('Recall:', recall_score(y_test, y_pred))\n",
    "print('F1 score:', f1_score(y_test, y_pred))"
   ]
  },
  {
   "cell_type": "code",
   "execution_count": null,
   "id": "e51fcc42-f104-478f-b21c-a6ba34a714f8",
   "metadata": {},
   "outputs": [],
   "source": [
    "ConfusionMatrixDisplay.from_predictions(y_test, y_pred, cmap='Blues', normalize='true')"
   ]
  },
  {
   "cell_type": "markdown",
   "id": "843f8098-eecf-4375-8af0-c5444d1ff62a",
   "metadata": {},
   "source": [
    "### SVC"
   ]
  },
  {
   "cell_type": "code",
   "execution_count": null,
   "id": "368d9577-eeac-4561-a968-0e987bea450c",
   "metadata": {},
   "outputs": [],
   "source": [
    "clf = GridSearchCV(SVC(probability=True), [\n",
    "    {'kernel': ['rbf'], 'gamma': 2 ** np.arange(-15.0, 4.0, 2),\n",
    "        'C': 2 ** np.arange(-5.0, 16.0, 2)},\n",
    "    {'kernel': ['linear'], 'C': 2 ** np.arange(-5.0, 16.0, 2)},\n",
    "    {'kernel': ['poly'], 'C': 2 ** np.arange(-5.0, 16.0, 2),\n",
    "        'degree': [2, 3, 4, 5]}\n",
    "], scoring='accuracy', cv=5, n_jobs=-1)\n",
    "\n",
    "clf.fit(X_train, y_train)"
   ]
  },
  {
   "cell_type": "code",
   "execution_count": null,
   "id": "289376fb-11bf-4b80-9fbd-7e123e860dbd",
   "metadata": {},
   "outputs": [],
   "source": [
    "y_pred = clf.predict(X_test)\n",
    "\n",
    "print('Accuracy:', accuracy_score(y_test, y_pred))\n",
    "print('Precision:', precision_score(y_test, y_pred))\n",
    "print('Recall:', recall_score(y_test, y_pred))\n",
    "print('F1 score:', f1_score(y_test, y_pred))"
   ]
  },
  {
   "cell_type": "code",
   "execution_count": null,
   "id": "87196e68-64e5-4f9b-800c-c986b0f624d2",
   "metadata": {},
   "outputs": [],
   "source": [
    "ConfusionMatrixDisplay.from_predictions(y_test, y_pred, cmap='Blues', normalize='true')"
   ]
  },
  {
   "cell_type": "markdown",
   "id": "fc6ce157-6fa9-4ce1-a5b7-ad3d5ac25b8d",
   "metadata": {},
   "source": [
    "### XGBoost"
   ]
  },
  {
   "cell_type": "code",
   "execution_count": null,
   "id": "07d51d47-7b47-4d0a-b072-210efd19dc8e",
   "metadata": {},
   "outputs": [],
   "source": [
    "clf = GridSearchCV(XGBClassifier(), param_grid={\n",
    "    'min_child_weight': [1, 5, 10],\n",
    "    'gamma': [0.5, 1.0, 1.5, 2.0, 5.0],\n",
    "    'subsample': [0.6, 0.8, 1.0],\n",
    "    'colsample_bytree': [0.6, 0.8, 1.0],\n",
    "    'max_depth': [3, 4, 5]\n",
    "}, scoring='accuracy', cv=5, n_jobs=-1)\n",
    "\n",
    "clf.fit(X_train, y_train)"
   ]
  },
  {
   "cell_type": "code",
   "execution_count": null,
   "id": "895b3d60-7b16-4230-a93c-93a41dac1cad",
   "metadata": {},
   "outputs": [],
   "source": [
    "y_pred = clf.predict(X_test)\n",
    "\n",
    "print('Accuracy:', accuracy_score(y_test, y_pred))\n",
    "print('Precision:', precision_score(y_test, y_pred))\n",
    "print('Recall:', recall_score(y_test, y_pred))\n",
    "print('F1 score:', f1_score(y_test, y_pred))"
   ]
  },
  {
   "cell_type": "code",
   "execution_count": null,
   "id": "030c8e7b-48e5-415b-b38a-74d6ad486a49",
   "metadata": {},
   "outputs": [],
   "source": [
    "ConfusionMatrixDisplay.from_predictions(y_test, y_pred, cmap='Blues', normalize='true')"
   ]
  },
  {
   "cell_type": "markdown",
   "id": "e44d06e3-8e8f-4236-b306-525182f10976",
   "metadata": {},
   "source": [
    "### Naive Bayes"
   ]
  },
  {
   "cell_type": "code",
   "execution_count": null,
   "id": "423afa48-4a5f-4b3d-a1b1-25c604b666ca",
   "metadata": {},
   "outputs": [],
   "source": [
    "clf = MultinomialNB()\n",
    "clf.fit(X_train, y_train)"
   ]
  },
  {
   "cell_type": "code",
   "execution_count": null,
   "id": "237274f8-3143-4f40-abb0-d3115f946b74",
   "metadata": {},
   "outputs": [],
   "source": [
    "y_pred = clf.predict(X_test)\n",
    "\n",
    "print('Accuracy:', accuracy_score(y_test, y_pred))\n",
    "print('Precision:', precision_score(y_test, y_pred))\n",
    "print('Recall:', recall_score(y_test, y_pred))\n",
    "print('F1 score:', f1_score(y_test, y_pred))"
   ]
  },
  {
   "cell_type": "code",
   "execution_count": null,
   "id": "bfa84f61-19d8-4862-9190-84f1998cd51c",
   "metadata": {},
   "outputs": [],
   "source": [
    "ConfusionMatrixDisplay.from_predictions(y_test, y_pred, cmap='Blues', normalize='true')"
   ]
  }
 ],
 "metadata": {
  "kernelspec": {
   "display_name": "Python 3 (ipykernel)",
   "language": "python",
   "name": "python3"
  },
  "language_info": {
   "codemirror_mode": {
    "name": "ipython",
    "version": 3
   },
   "file_extension": ".py",
   "mimetype": "text/x-python",
   "name": "python",
   "nbconvert_exporter": "python",
   "pygments_lexer": "ipython3",
   "version": "3.10.12"
  }
 },
 "nbformat": 4,
 "nbformat_minor": 5
}
