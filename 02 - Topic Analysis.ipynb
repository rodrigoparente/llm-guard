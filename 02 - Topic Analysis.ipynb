{
 "cells": [
  {
   "cell_type": "code",
   "execution_count": null,
   "id": "2a02c802-9f39-4974-b01c-c6537d6da18d",
   "metadata": {},
   "outputs": [],
   "source": [
    "# supress any warnings\n",
    "import warnings\n",
    "warnings.filterwarnings('ignore')"
   ]
  },
  {
   "cell_type": "code",
   "execution_count": null,
   "id": "d962ab22-b06e-42fc-8b55-54fe708f2ceb",
   "metadata": {},
   "outputs": [],
   "source": [
    "# configuring logging\n",
    "import logging\n",
    "logging.basicConfig(format='%(asctime)s : %(levelname)s : %(message)s', level=logging.ERROR)"
   ]
  },
  {
   "cell_type": "code",
   "execution_count": null,
   "id": "158557a3-8cc8-4159-a1a9-291cb5acc6b3",
   "metadata": {},
   "outputs": [],
   "source": [
    "# python imports\n",
    "import re\n",
    "import numpy as np\n",
    "import pandas as pd\n",
    "from pprint import pprint\n",
    "\n",
    "# third-party imports\n",
    "import gensim\n",
    "import gensim.corpora as corpora\n",
    "from gensim.utils import simple_preprocess\n",
    "from gensim.models import CoherenceModel\n",
    "\n",
    "import spacy\n",
    "from nltk.corpus import stopwords\n",
    "\n",
    "import pyLDAvis\n",
    "import pyLDAvis.gensim\n",
    "\n",
    "import matplotlib.pyplot as plt"
   ]
  },
  {
   "cell_type": "code",
   "execution_count": null,
   "id": "b25ec324-63b8-4ddd-886b-1c85dfd71348",
   "metadata": {},
   "outputs": [],
   "source": [
    "# loading english stopwords\n",
    "stop_words = stopwords.words('english')"
   ]
  },
  {
   "cell_type": "code",
   "execution_count": null,
   "id": "4cb4a5fc-f305-4b45-872f-3fc7dc35fe6e",
   "metadata": {},
   "outputs": [],
   "source": [
    "# downloading spacy 'en_core_web_sm' model\n",
    "# !python3 -m spacy download en_core_web_sm\n",
    "\n",
    "# loading downloaded model en\n",
    "nlp = spacy.load('en_core_web_sm', disable=['parser', 'ner'])"
   ]
  },
  {
   "cell_type": "markdown",
   "id": "0198d228-dc1f-47e2-8198-d890bfc8b04f",
   "metadata": {},
   "source": [
    "## Utils "
   ]
  },
  {
   "cell_type": "code",
   "execution_count": null,
   "id": "47b24022-41a1-4a24-88af-5c24df7ea131",
   "metadata": {},
   "outputs": [],
   "source": [
    "def sent_to_words(sentences):\n",
    "    for sentence in sentences:\n",
    "        yield(gensim.utils.simple_preprocess(str(sentence), deacc=True))"
   ]
  },
  {
   "cell_type": "code",
   "execution_count": null,
   "id": "ab555843-276b-4b05-8606-0b350d6cee56",
   "metadata": {},
   "outputs": [],
   "source": [
    "def preprocess_words(texts, stop_words=stop_words, allowed_postags=['NOUN', 'ADJ', 'VERB', 'ADV']):\n",
    "    texts = [[word for word in simple_preprocess(str(doc)) if word not in stop_words] for doc in texts]\n",
    "    texts = [bigram_mod[doc] for doc in texts]\n",
    "    texts = [trigram_mod[bigram_mod[doc]] for doc in texts]\n",
    "    texts_out = []\n",
    "    \n",
    "    for sent in texts:\n",
    "        doc = nlp(\" \".join(sent)) \n",
    "        texts_out.append([token.lemma_ for token in doc if token.pos_ in allowed_postags])\n",
    "    \n",
    "    texts_out = [[word for word in simple_preprocess(str(doc)) if word not in stop_words] for doc in texts_out]    \n",
    "    return texts_out"
   ]
  },
  {
   "cell_type": "code",
   "execution_count": null,
   "id": "37357e01-5600-4587-b7d4-3cca9e7dd759",
   "metadata": {},
   "outputs": [],
   "source": [
    "def format_topics_sentences(ldamodel, corpus, texts):\n",
    "    sent_topics_df = pd.DataFrame()\n",
    "\n",
    "    # get main topic in each document\n",
    "    for i, row_list in enumerate(ldamodel[corpus]):\n",
    "        row = row_list[0] if ldamodel.per_word_topics else row_list            \n",
    "        row = sorted(row, key=lambda x: (x[1]), reverse=True)\n",
    "        # get the sominant topic, perc contribution and keywords for each document\n",
    "        for j, (topic_num, prop_topic) in enumerate(row):\n",
    "            if j == 0:  # => dominant topic\n",
    "                wp = ldamodel.show_topic(topic_num)\n",
    "                topic_keywords = \", \".join([word for word, prop in wp])\n",
    "                sent_topics_df = pd.concat([sent_topics_df, pd.DataFrame([[int(topic_num), round(prop_topic, 4), topic_keywords]])], ignore_index=True)\n",
    "            else:\n",
    "                break\n",
    "\n",
    "    # add original text to the end of the output\n",
    "    contents = pd.Series(texts)\n",
    "    sent_topics_df = pd.concat([sent_topics_df, contents], axis=1)\n",
    "    sent_topics_df.columns = ['dominant_topic', 'perc_contribution', 'topic_keywords', 'prompt']\n",
    "    \n",
    "    return(sent_topics_df)"
   ]
  },
  {
   "cell_type": "code",
   "execution_count": null,
   "id": "2cfd26b1-8ea1-498e-9cae-351ba026cab9",
   "metadata": {},
   "outputs": [],
   "source": [
    "def lda_grid_search(texts, id2word, corpus, num_topics, alphas, betas):\n",
    "\n",
    "    best_lda_model = None\n",
    "    best_coherence_lda = 0.0\n",
    "    \n",
    "    for n_topic in num_topics:\n",
    "        for alpha in alphas:\n",
    "            for beta in betas:\n",
    "                lda_model = gensim.models.ldamodel.LdaModel(\n",
    "                    corpus=corpus, id2word=id2word, num_topics=n_topic, random_state=100,\n",
    "                    update_every=1, chunksize=100, passes=10, alpha=alpha, eta=beta, per_word_topics=True)\n",
    "                \n",
    "                coherence_model_lda = CoherenceModel(model=lda_model, texts=texts, dictionary=id2word, coherence='c_v')\n",
    "                coherence_lda = coherence_model_lda.get_coherence()\n",
    "\n",
    "                if coherence_lda > best_coherence_lda:\n",
    "                    best_lda_model = lda_model\n",
    "\n",
    "    return best_lda_model"
   ]
  },
  {
   "cell_type": "markdown",
   "id": "3dad9afa-d385-48f8-b5b3-09069b6cb418",
   "metadata": {},
   "source": [
    "## Loading data"
   ]
  },
  {
   "cell_type": "code",
   "execution_count": null,
   "id": "ded0f9ca-4488-43a0-9694-74acc6b4ee33",
   "metadata": {},
   "outputs": [],
   "source": [
    "data = pd.read_csv('data/prompt_injection_train.csv')\n",
    "\n",
    "# filtering malicious prompts\n",
    "data = data.loc[data['label'] == 1]"
   ]
  },
  {
   "cell_type": "markdown",
   "id": "5097f165-544e-466b-86c0-d4d8e932857d",
   "metadata": {},
   "source": [
    "## Training LDA Model"
   ]
  },
  {
   "cell_type": "code",
   "execution_count": null,
   "id": "fae80bc0-8569-4a79-bcda-7b21b3c9fed1",
   "metadata": {},
   "outputs": [],
   "source": [
    "# convert a document into a list of lowercase tokens, removing \n",
    "# punctuations, and ignoring tokens that are too short or too long\n",
    "data = data.prompt.values.tolist()\n",
    "data_words = list(sent_to_words(data))"
   ]
  },
  {
   "cell_type": "code",
   "execution_count": null,
   "id": "0f51058b-44c2-44eb-ab9d-4b5aa69256bc",
   "metadata": {},
   "outputs": [],
   "source": [
    "# build the bigram and trigram models\n",
    "bigram = gensim.models.Phrases(data_words, min_count=5, threshold=100)\n",
    "bigram_mod = gensim.models.phrases.Phraser(bigram)\n",
    "\n",
    "trigram = gensim.models.Phrases(bigram[data_words], threshold=100)  \n",
    "trigram_mod = gensim.models.phrases.Phraser(trigram)\n",
    "\n",
    "# remove Stopwords, form bigrams, trigrams and Lemmatization\n",
    "texts = preprocess_words(data_words) "
   ]
  },
  {
   "cell_type": "code",
   "execution_count": null,
   "id": "b0b5b6b7-b0f3-4bb1-b3a2-039182a5c49d",
   "metadata": {},
   "outputs": [],
   "source": [
    "# create dictionary\n",
    "id2word = corpora.Dictionary(texts)\n",
    "\n",
    "# term document frequency\n",
    "corpus = [id2word.doc2bow(text) for text in texts]"
   ]
  },
  {
   "cell_type": "code",
   "execution_count": null,
   "id": "17aff1c9-e612-4ebf-b4f3-6ecb775ffe1d",
   "metadata": {},
   "outputs": [],
   "source": [
    "# building LDA model\n",
    "lda_model = lda_grid_search(texts=texts, \n",
    "                            id2word=id2word, \n",
    "                            corpus=corpus, \n",
    "                            num_topics=[2, 5, 7, 10, 12, 14], \n",
    "                            alphas=['symmetric', 0.3, 0.5, 0.7], \n",
    "                            betas=['auto', 0.3, 0.5, 0.7])"
   ]
  },
  {
   "cell_type": "markdown",
   "id": "f7bab7cc-0f09-4cf0-8952-20418203b780",
   "metadata": {},
   "source": [
    "## Results"
   ]
  },
  {
   "cell_type": "code",
   "execution_count": null,
   "id": "a0ab8be4-2cdd-4e54-b2f8-a226ed5f610d",
   "metadata": {},
   "outputs": [],
   "source": [
    "perplexity = lda_model.log_perplexity(corpus)\n",
    "\n",
    "coherence_model = CoherenceModel(model=lda_model, texts=texts, dictionary=id2word, coherence='c_v')\n",
    "coherence = coherence_model.get_coherence()\n",
    "\n",
    "print(f'Perplexity: {perplexity}\\nCoherence: {coherence}') "
   ]
  },
  {
   "cell_type": "code",
   "execution_count": null,
   "id": "f65250ba-1df1-4006-8c06-5150d755a08b",
   "metadata": {
    "scrolled": true
   },
   "outputs": [],
   "source": [
    "pyLDAvis.enable_notebook()\n",
    "pyLDAvis.gensim.prepare(lda_model, corpus, id2word)"
   ]
  },
  {
   "cell_type": "code",
   "execution_count": null,
   "id": "891c4228-fb87-4748-9fd4-8e54139a995c",
   "metadata": {},
   "outputs": [],
   "source": [
    "result = format_topics_sentences(lda_model, corpus, data)\n",
    "result"
   ]
  },
  {
   "cell_type": "code",
   "execution_count": null,
   "id": "51519abf-1029-44aa-874c-22d3fc36a019",
   "metadata": {},
   "outputs": [],
   "source": [
    "result['dominant_topic'].value_counts()"
   ]
  }
 ],
 "metadata": {
  "kernelspec": {
   "display_name": "Python 3 (ipykernel)",
   "language": "python",
   "name": "python3"
  },
  "language_info": {
   "codemirror_mode": {
    "name": "ipython",
    "version": 3
   },
   "file_extension": ".py",
   "mimetype": "text/x-python",
   "name": "python",
   "nbconvert_exporter": "python",
   "pygments_lexer": "ipython3",
   "version": "3.10.12"
  }
 },
 "nbformat": 4,
 "nbformat_minor": 5
}
